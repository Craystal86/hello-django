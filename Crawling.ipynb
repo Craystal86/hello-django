{
 "cells": [
  {
   "cell_type": "code",
   "execution_count": 1,
   "metadata": {},
   "outputs": [
    {
     "name": "stdout",
     "output_type": "stream",
     "text": [
      "Requirement already satisfied: google_images_download in c:\\users\\sktl50120\\appdata\\local\\continuum\\anaconda3\\lib\\site-packages (2.5.0)\n",
      "Requirement already satisfied: selenium in c:\\users\\sktl50120\\appdata\\local\\continuum\\anaconda3\\lib\\site-packages (from google_images_download) (3.141.0)\n",
      "Requirement already satisfied: urllib3 in c:\\users\\sktl50120\\appdata\\local\\continuum\\anaconda3\\lib\\site-packages (from selenium->google_images_download) (1.23)\n"
     ]
    },
    {
     "name": "stderr",
     "output_type": "stream",
     "text": [
      "twisted 18.7.0 requires PyHamcrest>=1.9.0, which is not installed.\n",
      "You are using pip version 10.0.1, however version 18.1 is available.\n",
      "You should consider upgrading via the 'python -m pip install --upgrade pip' command.\n"
     ]
    }
   ],
   "source": [
    "!pip install google_images_download"
   ]
  },
  {
   "cell_type": "code",
   "execution_count": 2,
   "metadata": {},
   "outputs": [],
   "source": [
    "menu = [[0,'트와이스'],[1,'아이오아이'],[2,'BTS']]"
   ]
  },
  {
   "cell_type": "code",
   "execution_count": 3,
   "metadata": {},
   "outputs": [
    {
     "name": "stdout",
     "output_type": "stream",
     "text": [
      "[0, '트와이스']\n",
      "[1, '아이오아이']\n",
      "[2, 'BTS']\n"
     ]
    }
   ],
   "source": [
    "for m in menu:\n",
    "    print(m)"
   ]
  },
  {
   "cell_type": "code",
   "execution_count": 4,
   "metadata": {},
   "outputs": [],
   "source": [
    "from google_images_download import google_images_download as img"
   ]
  },
  {
   "cell_type": "code",
   "execution_count": 5,
   "metadata": {},
   "outputs": [],
   "source": [
    "response = img.googleimagesdownload()"
   ]
  },
  {
   "cell_type": "code",
   "execution_count": 6,
   "metadata": {
    "scrolled": true
   },
   "outputs": [
    {
     "name": "stdout",
     "output_type": "stream",
     "text": [
      "{'keywords': '트와이스', 'limit': 10, 'print_urls': True, 'no_directory': True, 'output_directory': './images/0', 'no_numbering': True}\n",
      "\n",
      "Item no.: 1 --> Item name = 트와이스\n",
      "Evaluating...\n",
      "Starting Download...\n",
      "Image URL: https://upload.wikimedia.org/wikipedia/commons/f/f4/180717_%EC%97%B4%EB%A6%B0%EC%9D%8C%EC%95%85%ED%9A%8C_%ED%8A%B8%EC%99%80%EC%9D%B4%EC%8A%A4_02.jpg\n",
      "Completed Image ====> 1. 180717_%ec%97%b4%eb%a6%b0%ec%9d%8c%ec%95%85%ed%9a%8c_%ed%8a%b8%ec%99%80%ec%9d%b4%ec%8a%a4_02.jpg\n",
      "Image URL: https://social.lge.co.kr/wp-content/uploads/2017/09/twice_%EB%8C%80%EB%AC%B8.jpg\n",
      "Completed Image ====> 2. twice_%eb%8c%80%eb%ac%b8.jpg\n",
      "Image URL: http://tenasia.hankyung.com/webwp_kr/wp-content/uploads/2017/07/2017070508084865409-540x428.jpg\n",
      "Completed Image ====> 3. 2017070508084865409-540x428.jpg\n",
      "Image URL: http://www.mbcsportsplus.com/data/board/attach/2018/06/20180607150418_eogvwwse.jpg\n",
      "Completed Image ====> 4. 20180607150418_eogvwwse.jpg\n",
      "Image URL: http://soundcat.com/wp/wp-content/uploads/2017/07/%ED%8A%B8%EC%99%80%EC%9D%B4%EC%8A%A4%EB%8B%A8%EC%B2%B4%EC%82%AC%EC%A7%84.png\n",
      "Completed Image ====> 5. %ed%8a%b8%ec%99%80%ec%9d%b4%ec%8a%a4%eb%8b%a8%ec%b2%b4%ec%82%ac%ec%a7%84.png\n",
      "Image URL: http://pocarisweat.co.kr/wp-content/uploads/2018/03/2018-%ED%8F%AC%EC%B9%B4%EB%A6%AC%EC%8A%A4%EC%9B%A8%ED%8A%B8-%EB%AA%A8%EB%8D%B8-%ED%8A%B8%EC%99%80%EC%9D%B4%EC%8A%A4-1024x768.jpg\n",
      "Completed Image ====> 6. 2018-%ed%8f%ac%ec%b9%b4%eb%a6%ac%ec%8a%a4%ec%9b%a8%ed%8a%b8-%eb%aa%a8%eb%8d%b8-%ed%8a%b8%ec%99%80%ec%9d%b4%ec%8a%a4-1024x768.jpg\n",
      "Image URL: https://pbs.twimg.com/profile_images/796031746961588224/OSSAvw9d_400x400.jpg\n",
      "Completed Image ====> 7. ossavw9d_400x400.jpg\n",
      "Image URL: https://image.ytn.co.kr/general/jpg/2018/0715/201807151014363705_d.jpg\n",
      "Completed Image ====> 8. 201807151014363705_d.jpg\n",
      "Image URL: http://talkimg.imbc.com/TVianUpload/tvian/TViews/image/2018/08/10/W752L7dDG6X9636694973796747363.jpg\n",
      "Completed Image ====> 9. w752l7ddg6x9636694973796747363.jpg\n",
      "Image URL: https://i.ytimg.com/vi/Ry4T3V9u7lg/maxresdefault.jpg\n",
      "Completed Image ====> 10. maxresdefault.jpg\n",
      "\n",
      "Errors: 0\n",
      "\n",
      "{'keywords': '아이오아이', 'limit': 10, 'print_urls': True, 'no_directory': True, 'output_directory': './images/1', 'no_numbering': True}\n",
      "\n",
      "Item no.: 1 --> Item name = 아이오아이\n",
      "Evaluating...\n",
      "Starting Download...\n",
      "Image URL: https://img.insight.co.kr/static/2017/11/28/700/7cd6ssp24xx4puavlhhg.jpg\n",
      "Completed Image ====> 1. 7cd6ssp24xx4puavlhhg.jpg\n",
      "Image URL: https://img.insight.co.kr/static/2018/04/01/700/wf3stfzdzkoo80z7ee9j.jpg\n",
      "Completed Image ====> 2. wf3stfzdzkoo80z7ee9j.jpg\n",
      "Image URL: https://s-i.huffpost.com/gen/4404674/thumbs/o-1-570.jpg?6\n",
      "Completed Image ====> 3. o-1-570.jpg\n",
      "Image URL: http://newsimg.hankookilbo.com/2016/05/09/201605091791473873_1.jpg\n",
      "Completed Image ====> 4. 201605091791473873_1.jpg\n",
      "Image URL: https://upload.wikimedia.org/wikipedia/commons/thumb/9/92/161021_%EB%AE%A4%EC%A7%81%EB%B1%85%ED%81%AC_%EC%95%84%EC%9D%B4%EC%98%A4%EC%95%84%EC%9D%B4.jpg/1200px-161021_%EB%AE%A4%EC%A7%81%EB%B1%85%ED%81%AC_%EC%95%84%EC%9D%B4%EC%98%A4%EC%95%84%EC%9D%B4.jpg\n",
      "Completed Image ====> 5. 1200px-161021_%eb%ae%a4%ec%a7%81%eb%b1%85%ed%81%ac_%ec%95%84%ec%9d%b4%ec%98%a4%ec%95%84%ec%9d%b4.jpg\n",
      "Image URL: http://tenasia.hankyung.com/webwp_kr/wp-content/uploads/2016/07/2016071113592314891.jpg\n",
      "Completed Image ====> 6. 2016071113592314891.jpg\n",
      "Image URL: https://i.ytimg.com/vi/kMics0mcktI/maxresdefault.jpg\n",
      "Completed Image ====> 7. maxresdefault.jpg\n",
      "Image URL: https://pds.joins.com/news/component/htmlphoto_mmdata/201703/10/htm_2017031010163355736.jpg\n",
      "Completed Image ====> 8. htm_2017031010163355736.jpg\n",
      "Image URL: https://images.genius.com/e6607c301fb293ee3485a6c015f05711.1000x500x1.jpg\n",
      "Completed Image ====> 9. e6607c301fb293ee3485a6c015f05711.1000x500x1.jpg\n",
      "Image URL: http://postfiles2.naver.net/MjAxNjEyMTRfMjAy/MDAxNDgxNjQ1ODMxMTM1.JMHqn-3MqD6MlFt3LYdWLIJsr8GtOqsapAxBXLSH6gAg.TPBvEJ9plB8xlrXa13zGF1rV1SHU_OhXMg-y8_WRzdkg.JPEG.kkm082/13.jpg?type=w966\n",
      "Completed Image ====> 10. 13.jpg\n",
      "\n",
      "Errors: 0\n",
      "\n",
      "{'keywords': 'BTS', 'limit': 10, 'print_urls': True, 'no_directory': True, 'output_directory': './images/2', 'no_numbering': True}\n",
      "\n",
      "Item no.: 1 --> Item name = BTS\n",
      "Evaluating...\n",
      "Starting Download...\n",
      "Image URL: https://upload.wikimedia.org/wikipedia/commons/0/0d/%E2%80%98LG_Q7_BTS_%EC%97%90%EB%94%94%EC%85%98%E2%80%99_%EC%98%88%EC%95%BD_%ED%8C%90%EB%A7%A4_%EC%8B%9C%EC%9E%91_%2842773472410%29_%28cropped%29.jpg\n",
      "Completed Image ====> 1. %e2%80%98lg_q7_bts_%ec%97%90%eb%94%94%ec%85%98%e2%80%99_%ec%98%88%ec%95%bd_%ed%8c%90%eb%a7%a4_%ec%8b%9c%ec%9e%91_%2842773472410%29_%28cropped%29.jpg\n",
      "Image URL: https://upload.wikimedia.org/wikipedia/commons/thumb/c/ca/%EB%B0%A9%ED%83%84%EC%86%8C%EB%85%84%EB%8B%A8%28BTS%29_180110_%EC%A0%9C_32%ED%9A%8C_%EA%B3%A8%EB%93%A0%EB%94%94%EC%8A%A4%ED%81%AC.png/1200px-%EB%B0%A9%ED%83%84%EC%86%8C%EB%85%84%EB%8B%A8%28BTS%29_180110_%EC%A0%9C_32%ED%9A%8C_%EA%B3%A8%EB%93%A0%EB%94%94%EC%8A%A4%ED%81%AC.png\n",
      "Completed Image ====> 2. 1200px-%eb%b0%a9%ed%83%84%ec%86%8c%eb%85%84%eb%8b%a8%28bts%29_180110_%ec%a0%9c_32%ed%9a%8c_%ea%b3%a8%eb%93%a0%eb%94%94%ec%8a%a4%ed%81%ac.png\n",
      "Image URL: https://ichef.bbci.co.uk/news/660/cpsprodpb/E475/production/_99458485_bts-2017-ama-backstage-portrait-billboard-1548.jpg\n",
      "Completed Image ====> 3. _99458485_bts-2017-ama-backstage-portrait-billboard-1548.jpg\n",
      "Image URL: https://www.billboard.com/files/media/BTS-UN-2018-billboard-1548.jpg\n",
      "Completed Image ====> 4. bts-un-2018-billboard-1548.jpg\n",
      "Image URL: https://timedotcom.files.wordpress.com/2017/07/bts-billboard.jpg?quality=85\n",
      "Completed Image ====> 5. bts-billboard.jpg\n",
      "Image URL: https://www.grammy.com/sites/com/files/styles/news_detail_header/public/gettyimages-877192122.jpg?itok=gW_QMOgT\n",
      "Completed Image ====> 6. gettyimages-877192122.jpg\n",
      "Image URL: https://sa.kapamilya.com/absnews/abscbnnews/media/2018/entertainment/11/07/20181107_bts.jpg\n",
      "Completed Image ====> 7. 20181107_bts.jpg\n",
      "Image URL: https://www.sbs.com.au/popasia/sites/sbs.com.au.popasia/files/styles/full/public/btsfesta2018cups.jpg?itok=YsWw2ESJ&mtime=1536027192\n",
      "Completed Image ====> 8. btsfesta2018cups.jpg\n",
      "Image URL: https://akns-images.eonline.com/eol_images/Entire_Site/2018812/rs_1024x759-180912110643-1024-bts-mv-91218.jpg?fit=inside|900:auto&output-quality=90\n",
      "Completed Image ====> 9. rs_1024x759-180912110643-1024-bts-mv-91218.jpg\n",
      "Image URL: https://www.billboard.com/files/media/02-BTS-kpop-artist-visit-march-2017-billboard-1548_0.jpg\n",
      "Completed Image ====> 10. 02-bts-kpop-artist-visit-march-2017-billboard-1548_0.jpg\n",
      "\n",
      "Errors: 0\n",
      "\n"
     ]
    }
   ],
   "source": [
    "for m in menu:\n",
    "    arguments = {\"keywords\":m[1],\"limit\":10,\"print_urls\":True,\"no_directory\":True,\"output_directory\":\"./images/%s\" % m[0],\"no_numbering\":True}   #creating list of arguments\n",
    "    print(arguments)\n",
    "    paths = response.download(arguments) "
   ]
  },
  {
   "cell_type": "code",
   "execution_count": null,
   "metadata": {},
   "outputs": [],
   "source": []
  }
 ],
 "metadata": {
  "kernelspec": {
   "display_name": "Python 3",
   "language": "python",
   "name": "python3"
  },
  "language_info": {
   "codemirror_mode": {
    "name": "ipython",
    "version": 3
   },
   "file_extension": ".py",
   "mimetype": "text/x-python",
   "name": "python",
   "nbconvert_exporter": "python",
   "pygments_lexer": "ipython3",
   "version": "3.7.0"
  }
 },
 "nbformat": 4,
 "nbformat_minor": 2
}
